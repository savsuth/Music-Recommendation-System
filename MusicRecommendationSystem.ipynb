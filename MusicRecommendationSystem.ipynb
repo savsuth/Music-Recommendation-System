{
  "cells": [
    {
      "cell_type": "markdown",
      "metadata": {
        "id": "tB65qwQI1ayz"
      },
      "source": [
        "Imports\n"
      ]
    },
    {
      "cell_type": "code",
      "execution_count": 1,
      "metadata": {
        "colab": {
          "base_uri": "https://localhost:8080/"
        },
        "id": "4u39VeEU1eMn",
        "outputId": "fbef94dd-14ff-4b75-afe6-ef27ee18042d"
      },
      "outputs": [
        {
          "name": "stderr",
          "output_type": "stream",
          "text": [
            "c:\\Users\\samya\\anaconda3\\envs\\py310\\lib\\site-packages\\tqdm\\auto.py:21: TqdmWarning: IProgress not found. Please update jupyter and ipywidgets. See https://ipywidgets.readthedocs.io/en/stable/user_install.html\n",
            "  from .autonotebook import tqdm as notebook_tqdm\n"
          ]
        }
      ],
      "source": [
        "#!pip install sentence-transformers spotipy\n",
        "\n",
        "import os, numpy as np, pandas as pd\n",
        "from typing import List, Dict\n",
        "from sklearn.feature_extraction.text import TfidfVectorizer\n",
        "from sklearn.preprocessing import normalize\n",
        "from sklearn.neighbors import NearestNeighbors\n",
        "from sentence_transformers import SentenceTransformer\n",
        "from numpy.linalg import norm\n",
        "\n",
        "# bounded-time client)\n",
        "import spotipy, requests\n",
        "from spotipy.oauth2 import SpotifyOAuth"
      ]
    },
    {
      "cell_type": "markdown",
      "metadata": {
        "id": "tKee3_js16XY"
      },
      "source": [
        "Spotify Config"
      ]
    },
    {
      "cell_type": "code",
      "execution_count": 2,
      "metadata": {
        "id": "5HkgpHR61w78"
      },
      "outputs": [],
      "source": [
        "useSpotify = True\n",
        "spotifyTimeout = 1000"
      ]
    },
    {
      "cell_type": "markdown",
      "metadata": {
        "id": "w_grWEXF190g"
      },
      "source": [
        "Data Loading"
      ]
    },
    {
      "cell_type": "code",
      "execution_count": null,
      "metadata": {
        "colab": {
          "base_uri": "https://localhost:8080/"
        },
        "id": "hYdpAVT72DXz",
        "outputId": "52f7f56b-39b5-479a-ccd0-0c7357cb668e"
      },
      "outputs": [
        {
          "name": "stdout",
          "output_type": "stream",
          "text": [
            "Loading: song_lyrics.csv\n",
            "Loaded 50000 rows.\n",
            "               title  tag     artist  year   views  \\\n",
            "0          Killa Cam  rap    Cam'ron  2004  173166   \n",
            "1         Can I Live  rap      JAY-Z  1996  468624   \n",
            "2  Forgive Me Father  rap   Fabolous  2003    4743   \n",
            "3       Down and Out  rap    Cam'ron  2004  144404   \n",
            "4             Fly In  rap  Lil Wayne  2005   78271   \n",
            "\n",
            "                                       features  \\\n",
            "0                   {\"Cam\\\\'ron\",\"Opera Steve\"}   \n",
            "1                                            {}   \n",
            "2                                            {}   \n",
            "3  {\"Cam\\\\'ron\",\"Kanye West\",\"Syleena Johnson\"}   \n",
            "4                                            {}   \n",
            "\n",
            "                                              lyrics  id language_cld3  \\\n",
            "0  [Chorus: Opera Steve & Cam'ron]\\nKilla Cam, Ki...   1            en   \n",
            "1  [Produced by Irv Gotti]\\n\\n[Intro]\\nYeah, hah,...   3            en   \n",
            "2  Maybe cause I'm eatin\\nAnd these bastards fien...   4            en   \n",
            "3  [Produced by Kanye West and Brian Miller]\\n\\n[...   5            en   \n",
            "4  [Intro]\\nSo they ask me\\n\"Young boy\\nWhat you ...   6            en   \n",
            "\n",
            "  language_ft language  \n",
            "0          en       en  \n",
            "1          en       en  \n",
            "2          en       en  \n",
            "3          en       en  \n",
            "4          en       en  \n"
          ]
        }
      ],
      "source": [
        "'''dataset downloaded from\n",
        "#https://www.kaggle.com/datasets/carlosgdcj/genius-song-lyrics-with-language-information\n",
        "'''\n",
        "\n",
        "filePath = \"song_lyrics.csv\"\n",
        "print(\"Loading:\", filePath)\n",
        "\n",
        "songs = pd.read_csv(filePath, encoding=\"latin1\", nrows=50_000, low_memory=False)\n",
        "\n",
        "print(\"Loaded\", len(songs), \"rows.\")\n",
        "print(songs.head())"
      ]
    },
    {
      "cell_type": "markdown",
      "metadata": {
        "id": "Kz9hK_Xo2GFj"
      },
      "source": [
        "Column Normalization"
      ]
    },
    {
      "cell_type": "code",
      "execution_count": 9,
      "metadata": {
        "id": "CaFl-uX52JaF"
      },
      "outputs": [
        {
          "name": "stdout",
          "output_type": "stream",
          "text": [
            "Shape after filtering: (49051, 7)\n"
          ]
        }
      ],
      "source": [
        "\n",
        "renameMap = {}\n",
        "if \"title\" in songs.columns: renameMap[\"title\"] = \"name\"\n",
        "if \"song\"  in songs.columns and \"name\" not in songs.columns: renameMap[\"song\"] = \"name\"\n",
        "if \"artist\" in songs.columns: renameMap[\"artist\"] = \"artists\"\n",
        "if \"lyrics\" in songs.columns: renameMap[\"lyrics\"] = \"lyrics\"\n",
        "songs = songs.rename(columns=renameMap)\n",
        "\n",
        "# ensure required columns exist\n",
        "if \"year\" not in songs.columns and \"release_date\" in songs.columns:\n",
        "    songs[\"year\"] = pd.to_datetime(songs[\"release_date\"], errors=\"coerce\").dt.year\n",
        "if \"genres\" not in songs.columns:\n",
        "    songs[\"genres\"] = \"\"\n",
        "\n",
        "# optional: keep English & non-empty lyrics to manage memory\n",
        "if \"language\" in songs.columns:\n",
        "    songs = songs[songs[\"language\"].astype(str).str.lower().eq(\"en\")]\n",
        "if \"lyrics\" in songs.columns:\n",
        "    songs = songs[songs[\"lyrics\"].astype(str).str.len() > 50]\n",
        "\n",
        "# keep only the columns we use\n",
        "keepCols = [c for c in [\"name\",\"artists\",\"year\",\"genres\",\"lyrics\",\"language\"] if c in songs.columns]\n",
        "songs = songs[keepCols].copy()\n",
        "\n",
        "# build doc_text for TF-IDF\n",
        "songs = songs.fillna({\"lyrics\": \"\", \"genres\": \"\", \"artists\": \"\"})\n",
        "songs[\"doc_text\"] = (\n",
        "    songs.get(\"genres\",\"\").astype(str) + \" \" +\n",
        "    songs.get(\"artists\",\"\").astype(str).str.replace(r\"[\\[\\]']\", \" \", regex=True) + \" \" +\n",
        "    songs.get(\"lyrics\",\"\").astype(str)\n",
        ")\n",
        "print(\"Shape after filtering:\", songs.shape)\n"
      ]
    },
    {
      "cell_type": "markdown",
      "metadata": {
        "id": "78dY97zs2Pvh"
      },
      "source": [
        "NLP Embedding"
      ]
    },
    {
      "cell_type": "code",
      "execution_count": 10,
      "metadata": {
        "id": "psQLKCv32Sqe"
      },
      "outputs": [
        {
          "name": "stderr",
          "output_type": "stream",
          "text": [
            "Batches: 100%|██████████| 1533/1533 [28:23<00:00,  1.11s/it] \n"
          ]
        }
      ],
      "source": [
        "# 1) Sentence-BERT embeddings for lyrics (semantic, robust)\n",
        "sbert = SentenceTransformer(\"all-MiniLM-L6-v2\")\n",
        "lyricEmb = sbert.encode(songs[\"lyrics\"].tolist(), show_progress_bar=True, normalize_embeddings=True)\n",
        "# 2) TF-IDF over genres+artists+lyrics (classic text similarity)\n",
        "tfidf = TfidfVectorizer(\n",
        "    lowercase=True, stop_words=\"english\",\n",
        "    min_df=3, max_df=0.9, ngram_range=(1,2)\n",
        ")\n",
        "tfidfMat = tfidf.fit_transform(songs[\"doc_text\"].tolist())\n",
        "tfidfMat = normalize(tfidfMat)\n",
        "\n",
        "# Precompute NN indices (fast retrieval)\n",
        "lyricNN = NearestNeighbors(metric=\"cosine\", algorithm=\"brute\").fit(lyricEmb)\n",
        "metaNN  = NearestNeighbors(metric=\"cosine\", algorithm=\"brute\").fit(tfidfMat)"
      ]
    },
    {
      "cell_type": "markdown",
      "metadata": {
        "id": "iIIy3AVq2ZJ0"
      },
      "source": [
        "Spotify Re-ranking"
      ]
    },
    {
      "cell_type": "code",
      "execution_count": 12,
      "metadata": {
        "id": "APo1Eyre2bRS"
      },
      "outputs": [],
      "source": [
        "sp = None\n",
        "if useSpotify:\n",
        "    sp = spotipy.Spotify(\n",
        "        auth_manager=SpotifyOAuth(\n",
        "            client_id=\"ceafc3a577854a5ea64de4d68d74f1d2\",\n",
        "            client_secret=\"a783732dd6bf4160b0ff6003676ada55\",\n",
        "            redirect_uri=\"http://127.0.0.1:8888/callback\",\n",
        "            scope=\"\"  # no special scopes needed for audio_features\n",
        "        ),\n",
        "        requests_timeout=spotifyTimeout, retries=2\n",
        "    )\n",
        "\n",
        "def fetchSpotifyFeatures(trackName: str, year: int | None = None, market=\"US\") -> Dict | None:\n",
        "    if not sp: return None\n",
        "    try:\n",
        "        q = f\"track:{trackName}\" + (f\" year:{int(year)}\" if pd.notnull(year) else \"\")\n",
        "        r = sp.search(q=q, type=\"track\", limit=1, market=market)\n",
        "        items = (r or {}).get(\"tracks\", {}).get(\"items\", [])\n",
        "        if not items: return None\n",
        "        tid = items[0][\"id\"]\n",
        "        feats = sp.audio_features([tid])[0]\n",
        "        return feats\n",
        "    except (requests.exceptions.Timeout, requests.exceptions.ReadTimeout):\n",
        "        return None\n",
        "    except Exception:\n",
        "        return None"
      ]
    },
    {
      "cell_type": "markdown",
      "metadata": {
        "id": "Hrsrhj5t2jXV"
      },
      "source": [
        "Helpers"
      ]
    },
    {
      "cell_type": "code",
      "execution_count": 16,
      "metadata": {
        "id": "T24s7rqY2kvy"
      },
      "outputs": [],
      "source": [
        "def cosineSimVec(a: np.ndarray, b: np.ndarray) -> float:\n",
        "    d = (a*b).sum()\n",
        "    na, nb = norm(a) + 1e-12, norm(b) + 1e-12\n",
        "    return float(d/(na*nb))\n",
        "\n",
        "def textToEmbed(query: str) -> np.ndarray:\n",
        "    return sbert.encode([query], normalize_embeddings=True)[0]\n",
        "\n",
        "def songRowToEmbed(row) -> np.ndarray:\n",
        "    return sbert.encode([row[\"lyrics\"]], normalize_embeddings=True)[0]\n",
        "\n",
        "def hybridScore(rowIdxs, qLyricVec, qTfidfRow, wLyrics=0.7, wMeta=0.3,\n",
        "                audioBias: Dict[str, float] | None = None):\n",
        "    # lyric similarity\n",
        "    lyr = (lyricEmb[rowIdxs] @ qLyricVec)  # already normalized → dot = cosine\n",
        "    # metadata similarity\n",
        "    meta = (tfidfMat[rowIdxs]).dot(qTfidfRow.T).toarray().ravel()\n",
        "    score = wLyrics*lyr + wMeta*meta\n",
        "    # optional: nudge by audio targets (tempo/energy/valence)\n",
        "    if audioBias:\n",
        "        pass\n",
        "    return score"
      ]
    },
    {
      "cell_type": "markdown",
      "metadata": {
        "id": "S331Jvas2nhm"
      },
      "source": [
        "Text/Seed Based Recommedn"
      ]
    },
    {
      "cell_type": "code",
      "execution_count": 17,
      "metadata": {
        "id": "TxOWZXnPp-Fh"
      },
      "outputs": [],
      "source": [
        "def recommendByText(queryText: str, k: int = 10, wLyrics=0.7, wMeta=0.3) -> pd.DataFrame:\n",
        "    qVec = textToEmbed(queryText)\n",
        "    # nearest by lyrics to prune candidate set\n",
        "    k0 = min(200, len(songs))\n",
        "    _, idx = lyricNN.kneighbors([qVec], n_neighbors=k0)\n",
        "    candIdx = idx[0]\n",
        "    # build a TF-IDF row for the query (use vectorizer’s vocab)\n",
        "    qTfidf = tfidf.transform([queryText])\n",
        "    scores = hybridScore(candIdx, qVec, qTfidf, wLyrics=wLyrics, wMeta=wMeta)\n",
        "    top = candIdx[np.argsort(scores)[::-1][:k]]\n",
        "    return songs.iloc[top][[\"name\",\"artists\",\"year\",\"genres\"]].reset_index(drop=True)\n",
        "\n",
        "def recommendBySeed(name: str, year: int | None = None, k: int = 10, wLyrics=0.7, wMeta=0.3) -> pd.DataFrame:\n",
        "    # try to find the seed row locally (exact on name, +/- 1yr tolerance)\n",
        "    m = songs[songs[\"name\"].str.lower().eq(name.lower())]\n",
        "    if year is not None:\n",
        "        m = m[m[\"year\"].between(int(year)-1, int(year)+1, inclusive=\"both\")]\n",
        "    if not m.empty and m.iloc[0][\"lyrics\"]:\n",
        "        row = m.iloc[0]\n",
        "        qVec = songRowToEmbed(row)\n",
        "        seedText = f\"{row['genres']} {row['artists']} {row['lyrics']}\"\n",
        "        qTfidf = tfidf.transform([seedText])\n",
        "    else:\n",
        "        # fall back to a text query (lyrics unavailable) using title and artists\n",
        "        queryText = f\"{name} {'' if year is None else year}\"\n",
        "        qVec = textToEmbed(queryText)  # semantic text query\n",
        "        qTfidf = tfidf.transform([queryText])\n",
        "\n",
        "    # prune by lyric NN, then hybrid re-rank\n",
        "    k0 = min(200, len(songs))\n",
        "    _, idx = lyricNN.kneighbors([qVec], n_neighbors=k0)\n",
        "    candIdx = idx[0]\n",
        "    scores = hybridScore(candIdx, qVec, qTfidf, wLyrics=wLyrics, wMeta=wMeta)\n",
        "    top = candIdx[np.argsort(scores)[::-1]]\n",
        "    # drop the seed itself if present\n",
        "    out = songs.iloc[top][[\"name\",\"artists\",\"year\",\"genres\"]]\n",
        "    out = out[~out[\"name\"].str.lower().eq(name.lower())]\n",
        "    return out.head(k).reset_index(drop=True)"
      ]
    },
    {
      "cell_type": "markdown",
      "metadata": {
        "id": "1wJyYO0o22BA"
      },
      "source": [
        "Example"
      ]
    },
    {
      "cell_type": "code",
      "execution_count": 18,
      "metadata": {
        "id": "PMyQ5Qxd23Py"
      },
      "outputs": [
        {
          "name": "stdout",
          "output_type": "stream",
          "text": [
            "                                  name                  artists  year genres\n",
            "0                         Slow and Low             Beastie Boys  1986       \n",
            "1                          Rainy Rainy                 Fat Boys  1989       \n",
            "2                          Let It Rain                  Heavy D  1991       \n",
            "3                            Freestyle  Lateef the Truthspeaker  2007       \n",
            "4           Rock Steady DJ Clue? Remix            Mary J. Blige  2001       \n",
            "5  The Roof Back in Time Mobb Deep Mix             Mariah Carey  1998       \n",
            "6                     Situation: Grimm              Mista Grimm  1995       \n",
            "7                        The Trap Door                Holocaust  2006       \n",
            "8                             The Pain                     Murs  2004       \n",
            "9        Doin Time Marshall Arts Remix                  Sublime  1997       \n",
            "                                  name  \\\n",
            "0                                 2015   \n",
            "1                   Sweet Premium Wine   \n",
            "2                         The Last Cry   \n",
            "3                  State of the Nation   \n",
            "4  Gingers Drumming with Celery Sticks   \n",
            "5               The Assmann 640 Speaks   \n",
            "6                     The Waiting Room   \n",
            "7                     Civilization Day   \n",
            "8                    Year Two Thousand   \n",
            "9                             G/Ciples   \n",
            "\n",
            "                                     artists  year genres  \n",
            "0                                         XV  2010         \n",
            "1                                        KMD  1998         \n",
            "2  The Unknown (Bronze Nazareth & Kevlaar 7)  1999         \n",
            "3                               Deltron 3030  2000         \n",
            "4                                       Time  2007         \n",
            "5                               Deltron 3030  2000         \n",
            "6                                     Emanon  2004         \n",
            "7                                  Quasimoto  2005         \n",
            "8                         Princess Superstar  2000         \n",
            "9                              Killah Priest  2009         \n"
          ]
        }
      ],
      "source": [
        "# Natural-language query (pure NLP):\n",
        "print(recommendByText(\"moody indie for a rainy night, female vocals, low tempo\", k=10))\n",
        "\n",
        "# Seed song (uses its lyrics/metadata if present, else semantic title query):\n",
        "print(recommendBySeed(\"Bloody Sweet\", year=2023, k=10))"
      ]
    }
  ],
  "metadata": {
    "accelerator": "GPU",
    "colab": {
      "gpuType": "T4",
      "provenance": []
    },
    "kernelspec": {
      "display_name": "py310",
      "language": "python",
      "name": "python3"
    },
    "language_info": {
      "codemirror_mode": {
        "name": "ipython",
        "version": 3
      },
      "file_extension": ".py",
      "mimetype": "text/x-python",
      "name": "python",
      "nbconvert_exporter": "python",
      "pygments_lexer": "ipython3",
      "version": "3.10.13"
    }
  },
  "nbformat": 4,
  "nbformat_minor": 0
}
